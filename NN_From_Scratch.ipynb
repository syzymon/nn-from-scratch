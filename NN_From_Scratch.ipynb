{
 "cells": [
  {
   "cell_type": "code",
   "execution_count": 1,
   "metadata": {
    "colab": {},
    "colab_type": "code",
    "id": "J533jbfLc5O-"
   },
   "outputs": [],
   "source": [
    "# Vanilla python + numpy (for speed) = neural network from scratch!\n",
    "import numpy as np\n",
    "import itertools\n",
    "\n",
    "# Stuff for downloading original MNIST dataset: http://yann.lecun.com/exdb/mnist/\n",
    "import urllib.request\n",
    "import gzip\n",
    "from io import BytesIO"
   ]
  },
  {
   "cell_type": "code",
   "execution_count": 2,
   "metadata": {
    "colab": {},
    "colab_type": "code",
    "id": "SSVznKj8gGHg"
   },
   "outputs": [],
   "source": [
    "def download_and_unzip_bytes(url):\n",
    "    response = urllib.request.urlopen(url)\n",
    "    compressed_file = BytesIO(response.read())\n",
    "    decompressed_file = gzip.GzipFile(fileobj=compressed_file)\n",
    "    return decompressed_file.read()"
   ]
  },
  {
   "cell_type": "code",
   "execution_count": 3,
   "metadata": {
    "colab": {},
    "colab_type": "code",
    "id": "fksBm5kdmdIq"
   },
   "outputs": [],
   "source": [
    "def btos(bytes):\n",
    "    return int.from_bytes(bytes, 'big')\n",
    "\n",
    "def parse_images(img_bytes):\n",
    "    io = BytesIO(img_bytes)\n",
    "    magic = btos(io.read(4))\n",
    "    assert magic == 2051 # magic\n",
    "\n",
    "    n_images = btos(io.read(4))\n",
    "    rows = btos(io.read(4))\n",
    "    cols = btos(io.read(4))\n",
    "    img_sz = rows * cols\n",
    "    \n",
    "    images = np.empty((n_images, img_sz))\n",
    "    for i in range(n_images):\n",
    "        images[i] = np.frombuffer(io.read(img_sz), dtype=np.uint8)\n",
    "    return images\n",
    "\n",
    "def parse_labels(label_bytes):\n",
    "    io = BytesIO(label_bytes)\n",
    "    magic = btos(io.read(4))\n",
    "    assert magic == 2049 # magic\n",
    "\n",
    "    n_labels = btos(io.read(4))\n",
    "    return np.frombuffer(io.read(n_labels), dtype=np.uint8)\n"
   ]
  },
  {
   "cell_type": "code",
   "execution_count": 4,
   "metadata": {
    "colab": {},
    "colab_type": "code",
    "id": "UVkBBlIWgeES"
   },
   "outputs": [],
   "source": [
    "x_train, y_train, x_valid, y_valid = map(download_and_unzip_bytes, [\n",
    "    'http://yann.lecun.com/exdb/mnist/train-images-idx3-ubyte.gz',\n",
    "    'http://yann.lecun.com/exdb/mnist/train-labels-idx1-ubyte.gz',\n",
    "    'http://yann.lecun.com/exdb/mnist/t10k-images-idx3-ubyte.gz',\n",
    "    'http://yann.lecun.com/exdb/mnist/t10k-labels-idx1-ubyte.gz'\n",
    "])"
   ]
  },
  {
   "cell_type": "code",
   "execution_count": 5,
   "metadata": {
    "colab": {},
    "colab_type": "code",
    "id": "dnv3kKHD17tr"
   },
   "outputs": [],
   "source": [
    "x_train, x_valid = map(parse_images, [x_train, x_valid])\n",
    "y_train, y_valid = map(parse_labels, [y_train, y_valid])"
   ]
  },
  {
   "cell_type": "code",
   "execution_count": 6,
   "metadata": {
    "colab": {},
    "colab_type": "code",
    "id": "FGtAoYZHxk_9"
   },
   "outputs": [],
   "source": [
    "from matplotlib.pyplot import imshow\n",
    "\n",
    "def show_img(img_vec):\n",
    "    imshow(img_vec.reshape(28, 28))"
   ]
  },
  {
   "cell_type": "code",
   "execution_count": 8,
   "metadata": {
    "colab": {
     "base_uri": "https://localhost:8080/",
     "height": 282
    },
    "colab_type": "code",
    "id": "2N28XLA3yHJx",
    "outputId": "7a28e27a-5b29-4de3-8c3e-127950ece086"
   },
   "outputs": [
    {
     "name": "stdout",
     "output_type": "stream",
     "text": [
      "5\n"
     ]
    },
    {
     "data": {
      "image/png": "[encoded data removed]",
      "text/plain": [
       "<Figure size 432x288 with 1 Axes>"
      ]
     },
     "metadata": {
      "needs_background": "light"
     },
     "output_type": "display_data"
    }
   ],
   "source": [
    "print(y_train[0])\n",
    "show_img(x_train[0])"
   ]
  },
  {
   "cell_type": "code",
   "execution_count": 11,
   "metadata": {
    "colab": {
     "base_uri": "https://localhost:8080/",
     "height": 282
    },
    "colab_type": "code",
    "id": "gTZfS2Co3MyF",
    "outputId": "40753a4c-d860-4101-e45c-cccea35be98a"
   },
   "outputs": [
    {
     "name": "stdout",
     "output_type": "stream",
     "text": [
      "7\n"
     ]
    },
    {
     "data": {
      "image/png": "[encoded data removed]",
      "text/plain": [
       "<Figure size 432x288 with 1 Axes>"
      ]
     },
     "metadata": {
      "needs_background": "light"
     },
     "output_type": "display_data"
    }
   ],
   "source": [
    "print(y_valid[0])\n",
    "show_img(x_valid[0])"
   ]
  },
  {
   "cell_type": "code",
   "execution_count": 12,
   "metadata": {
    "colab": {},
    "colab_type": "code",
    "id": "hgB5bBjh4fFs"
   },
   "outputs": [],
   "source": [
    "def normalize(train, valid):\n",
    "    mn = np.mean(train)\n",
    "    std = np.std(train)\n",
    "    return ((train - mn) / std), ((valid - mn) / std)"
   ]
  },
  {
   "cell_type": "code",
   "execution_count": 13,
   "metadata": {
    "colab": {},
    "colab_type": "code",
    "id": "Txm4QY6pc9pN"
   },
   "outputs": [],
   "source": [
    "class Dataset:\n",
    "    def __init__(self, inputs, labels):\n",
    "        assert inputs.shape[0] == labels.shape[0]\n",
    "        self._inputs = inputs\n",
    "        self._labels = labels\n",
    "\n",
    "    def __getitem__(self, index):\n",
    "        return (self._inputs[index], self._labels[index])\n",
    "\n",
    "    def __len__(self):\n",
    "        return self._inputs.shape[0]\n",
    "\n",
    "class DataLoader:\n",
    "    def __init__(self, dataset: Dataset, batch_size: int = 32):\n",
    "        self._ds = dataset\n",
    "        self._batch_size = batch_size\n",
    "\n",
    "    def __iter__(self):\n",
    "        for i in range(0, len(self._ds), self._batch_size):\n",
    "            yield self._ds[i:i + self._batch_size]"
   ]
  },
  {
   "cell_type": "code",
   "execution_count": 14,
   "metadata": {
    "colab": {},
    "colab_type": "code",
    "id": "_tXPsVKG31C7"
   },
   "outputs": [],
   "source": [
    "train_norm, valid_norm = normalize(x_train, x_valid)\n",
    "train = Dataset(train_norm, y_train)\n",
    "valid = Dataset(valid_norm, y_valid)"
   ]
  },
  {
   "cell_type": "code",
   "execution_count": 15,
   "metadata": {
    "colab": {},
    "colab_type": "code",
    "id": "x82NsS3VQbYJ"
   },
   "outputs": [],
   "source": [
    "class Parameter():\n",
    "    def __init__(self, x):\n",
    "        self.data = x\n",
    "        self.grad = 0"
   ]
  },
  {
   "cell_type": "code",
   "execution_count": 16,
   "metadata": {
    "colab": {},
    "colab_type": "code",
    "id": "A5XHC7qN3_lt"
   },
   "outputs": [],
   "source": [
    "class Module():\n",
    "    def __call__(self, x):\n",
    "        self._inp = x if isinstance(x, Parameter) else Parameter(x)\n",
    "        self._out = Parameter(self.forward(x.data))\n",
    "        return self._out\n",
    "\n",
    "    def backward(self):\n",
    "        raise NotImplementedError\n",
    "\n",
    "    def forward(self, x: np.ndarray):\n",
    "        raise NotImplementedError\n",
    "\n",
    "    @property\n",
    "    def weights(self):\n",
    "        return []"
   ]
  },
  {
   "cell_type": "code",
   "execution_count": 17,
   "metadata": {
    "colab": {},
    "colab_type": "code",
    "id": "Mz1OXPycCYFN"
   },
   "outputs": [],
   "source": [
    "import pdb\n",
    "\n",
    "class CrossEntropy(Module):\n",
    "    def __call__(self, x, targets):\n",
    "        # pdb.set_trace()\n",
    "        self._inp = x if isinstance(x, Parameter) else Parameter(x)\n",
    "        self._softmax = np.exp(self._inp.data) / (np.sum(np.exp(self._inp.data), axis=-1, keepdims=True))\n",
    "        self._winners = self._softmax.argmax(axis=1)\n",
    "        probs = self._softmax[np.arange(len(self._winners)), self._winners]\n",
    "\n",
    "        self._incorrect_ind = (self._winners != targets)\n",
    "        self._out = probs\n",
    "        self._out[self._incorrect_ind] = 1 - self._out[self._incorrect_ind]\n",
    "        self._out = -np.log(self._out)\n",
    "        return self._winners\n",
    "\n",
    "    def backward(self):\n",
    "        # 2 cases - if target OK, just return softmax and -1 in target row\n",
    "        # if target wrong, return softmax in target and softmax - softmax without target (so it is negative)\n",
    "        # First case: correct matches\n",
    "        self._inp.grad = self._softmax\n",
    "        correct_ind = np.logical_not(self._incorrect_ind)\n",
    "        self._inp.grad[correct_ind, self._winners[correct_ind]] -= 1 # Negative loss for good labels\n",
    "\n",
    "        exps_notarget = np.exp(self._inp.data)\n",
    "        exps_notarget[np.arange(len(self._winners)), self._winners] = 0\n",
    "        self._softmax1 = exps_notarget / np.sum(exps_notarget, axis=-1, keepdims=True)\n",
    "\n",
    "        self._softmax1[correct_ind] = 0 # Do not subtract from correct ones\n",
    "        self._inp.grad -= self._softmax1\n",
    "\n",
    "class ReLU(Module):\n",
    "    def forward(self, x):\n",
    "        return np.maximum(x, 0)\n",
    "\n",
    "    def backward(self):\n",
    "        self._inp.grad = self._out.grad * (self._inp.data > 0)"
   ]
  },
  {
   "cell_type": "code",
   "execution_count": 18,
   "metadata": {
    "colab": {},
    "colab_type": "code",
    "id": "2FiXvUnOpGFo"
   },
   "outputs": [],
   "source": [
    "test_inputs = np.array([\n",
    "  [2, 1],\n",
    "  [3, 7]             \n",
    "])\n",
    "\n",
    "ce = CrossEntropy()\n",
    "out = ce(test_inputs, np.array([1, 0]))"
   ]
  },
  {
   "cell_type": "code",
   "execution_count": 19,
   "metadata": {
    "colab": {
     "base_uri": "https://localhost:8080/",
     "height": 34
    },
    "colab_type": "code",
    "id": "eMPx_nthpadP",
    "outputId": "66cbd39a-60db-458d-f604-1b5fde5fe0f9"
   },
   "outputs": [
    {
     "data": {
      "text/plain": [
       "array([0, 1])"
      ]
     },
     "execution_count": 19,
     "metadata": {},
     "output_type": "execute_result"
    }
   ],
   "source": [
    "out"
   ]
  },
  {
   "cell_type": "code",
   "execution_count": 20,
   "metadata": {
    "colab": {
     "base_uri": "https://localhost:8080/",
     "height": 51
    },
    "colab_type": "code",
    "id": "dXVt-Y5oNMQE",
    "outputId": "a3fb5efc-60bd-4d72-c169-465a0ef1b362"
   },
   "outputs": [
    {
     "data": {
      "text/plain": [
       "array([[ 0.73105858, -0.73105858],\n",
       "       [-0.98201379,  0.98201379]])"
      ]
     },
     "execution_count": 20,
     "metadata": {},
     "output_type": "execute_result"
    }
   ],
   "source": [
    "ce.backward()\n",
    "ce._inp.grad"
   ]
  },
  {
   "cell_type": "code",
   "execution_count": 21,
   "metadata": {
    "colab": {},
    "colab_type": "code",
    "id": "OCyh2sT_UZLM"
   },
   "outputs": [],
   "source": [
    "def print_stats(data: np.ndarray):\n",
    "    print(\"Mean:\", data.mean(axis=1), \"Std:\", data.std(axis=1), sep='\\n')"
   ]
  },
  {
   "cell_type": "code",
   "execution_count": 22,
   "metadata": {
    "colab": {},
    "colab_type": "code",
    "id": "G4XaX9xsRAU6"
   },
   "outputs": [],
   "source": [
    "class Trainable(Parameter):\n",
    "    def __init__(self, x):\n",
    "        super().__init__(x)\n",
    "\n",
    "class Linear(Module):\n",
    "    def __init__(self, n_in, n_out):\n",
    "        self._n_in = n_in\n",
    "        self._n_out = n_out\n",
    "        self._w = Trainable(self._initialized_weights(n_in, n_out))\n",
    "        self._b = Trainable(np.zeros(n_out))\n",
    "\n",
    "    @staticmethod\n",
    "    def _initialized_weights(n, m):\n",
    "        # TODO: kaiming (or some better) init\n",
    "        return np.random.normal(size=(n, m)) / (2*np.sqrt(m))\n",
    "\n",
    "    def forward(self, x):\n",
    "        return x @ self._w.data + self._b.data\n",
    "\n",
    "    def backward(self):\n",
    "        # self._inp.grad = (np.expand_dims(self._w, 1) * self._out.grad[np.newaxis,]).sum(axis=-1)\n",
    "        self._inp.grad = self._out.grad @ self._w.data.T\n",
    "        self._w.grad = (np.expand_dims(self._inp.data.T, 2) * np.expand_dims(self._out.grad, 0)).sum(axis=1)\n",
    "        self._b.grad = self._out.grad.sum(axis=0)\n",
    "\n",
    "    @property\n",
    "    def weights(self):\n",
    "        return [self._w, self._b]"
   ]
  },
  {
   "cell_type": "code",
   "execution_count": 23,
   "metadata": {
    "colab": {},
    "colab_type": "code",
    "id": "JJ4s6MBWDQD7"
   },
   "outputs": [],
   "source": [
    "vec = train[0:10][0]\n",
    "lin = Linear(784, 50)\n",
    "relu = ReLU()\n",
    "out = lin(vec)\n",
    "out = relu(out)"
   ]
  },
  {
   "cell_type": "code",
   "execution_count": 24,
   "metadata": {
    "colab": {
     "base_uri": "https://localhost:8080/",
     "height": 119
    },
    "colab_type": "code",
    "id": "U6j_JnbXCwGe",
    "outputId": "77851cd1-343a-4b76-8dfd-027fd1e9bb80"
   },
   "outputs": [
    {
     "name": "stdout",
     "output_type": "stream",
     "text": [
      "Mean:\n",
      "[0.54019632 0.55717634 0.60519668 0.67980953 0.63125516 0.70740749\n",
      " 0.60219954 0.64161567 0.36145155 0.57281204]\n",
      "Std:\n",
      "[0.80741711 0.88506085 0.82587999 1.0903679  0.93931869 1.12945576\n",
      " 0.9051617  0.93908866 0.60617728 0.84258491]\n"
     ]
    }
   ],
   "source": [
    "print_stats(out.data)"
   ]
  },
  {
   "cell_type": "code",
   "execution_count": 25,
   "metadata": {
    "colab": {},
    "colab_type": "code",
    "id": "5o_nA1SmotwM"
   },
   "outputs": [],
   "source": [
    "import pdb\n",
    "\n",
    "class Network(Module):\n",
    "    def __init__(self, input_dim = 784, n_out_classes = 10):\n",
    "        self._input_dim = input_dim\n",
    "        self._n_out_classes = n_out_classes\n",
    "        self._layers = [\n",
    "                   Linear(input_dim, 50),\n",
    "                   ReLU(),\n",
    "                   Linear(50, n_out_classes)\n",
    "        ]\n",
    "\n",
    "        self._loss_function = CrossEntropy()\n",
    "\n",
    "    def __call__(self, x, targets):\n",
    "        # pdb.set_trace()\n",
    "        for layer in self._layers:\n",
    "            x = layer(x)\n",
    "        return self._loss_function(x, targets)\n",
    "\n",
    "    def backward(self):\n",
    "        self._loss_function.backward()\n",
    "        for layer in self._layers[::-1]:\n",
    "            layer.backward()\n",
    "\n",
    "    @property\n",
    "    def weights(self):\n",
    "        return list(itertools.chain(*(layer.weights for layer in self._layers)))\n"
   ]
  },
  {
   "cell_type": "code",
   "execution_count": 26,
   "metadata": {
    "colab": {},
    "colab_type": "code",
    "id": "2X1vmlBIPERL"
   },
   "outputs": [],
   "source": [
    "def accuracy(preds, ground_truth):\n",
    "    return np.mean(preds == ground_truth)"
   ]
  },
  {
   "cell_type": "code",
   "execution_count": 27,
   "metadata": {
    "colab": {},
    "colab_type": "code",
    "id": "K-atari8V8PR"
   },
   "outputs": [],
   "source": [
    "def optimize(param: Trainable, lr=0.002):\n",
    "    param.data -= lr * param.grad"
   ]
  },
  {
   "cell_type": "code",
   "execution_count": 28,
   "metadata": {
    "colab": {},
    "colab_type": "code",
    "id": "KgMXAv7wWLL_"
   },
   "outputs": [],
   "source": [
    "small_ds = Dataset(train_norm, y_train)\n",
    "small_valid = Dataset(valid_norm, y_valid)\n",
    "\n",
    "dl = DataLoader(small_ds)"
   ]
  },
  {
   "cell_type": "code",
   "execution_count": 29,
   "metadata": {
    "colab": {},
    "colab_type": "code",
    "id": "5YDA7Ay6ZFDJ"
   },
   "outputs": [],
   "source": [
    "class Learner():\n",
    "    def __init__(self, model: Module, dl: DataLoader, valid_set: Dataset):\n",
    "        self._model = model\n",
    "        self._dl = dl\n",
    "        self._valid_set = valid_set\n",
    "    \n",
    "    def fit(self, epochs=1, lr=0.002):\n",
    "        for epoch in range(epochs):\n",
    "            for batch_x, batch_y in self._dl:\n",
    "                preds = self._model(batch_x, batch_y)\n",
    "                self._model.backward()\n",
    "\n",
    "                for weight in self._model.weights:\n",
    "                    optimize(weight, lr)\n",
    "\n",
    "            valid_preds = self._model(*self._valid_set[:])\n",
    "            print(f\"Epoch: {epoch}, Accuracy: {accuracy(valid_preds, self._valid_set[:][1])}\")"
   ]
  },
  {
   "cell_type": "code",
   "execution_count": 30,
   "metadata": {
    "colab": {},
    "colab_type": "code",
    "id": "szXAQP2hbnUv"
   },
   "outputs": [],
   "source": [
    "learn = Learner(Network(), dl, small_valid)"
   ]
  },
  {
   "cell_type": "code",
   "execution_count": 31,
   "metadata": {
    "colab": {
     "base_uri": "https://localhost:8080/",
     "height": 102
    },
    "colab_type": "code",
    "id": "DlhWEVxccuba",
    "outputId": "3c051a19-5d2b-4c21-cbfe-4ba002ebfca3"
   },
   "outputs": [
    {
     "name": "stdout",
     "output_type": "stream",
     "text": [
      "Epoch: 0, Accuracy: 0.9346\n",
      "Epoch: 1, Accuracy: 0.9497\n",
      "Epoch: 2, Accuracy: 0.9569\n",
      "CPU times: user 3min 27s, sys: 3min 16s, total: 6min 44s\n",
      "Wall time: 34.6 s\n"
     ]
    }
   ],
   "source": [
    "%time learn.fit(epochs=3)"
   ]
  }
 ],
 "metadata": {
  "colab": {
   "collapsed_sections": [],
   "name": "NN_From_Scratch.ipynb",
   "provenance": []
  },
  "kernelspec": {
   "display_name": "Python 3",
   "language": "python",
   "name": "python3"
  },
  "language_info": {
   "codemirror_mode": {
    "name": "ipython",
    "version": 3
   },
   "file_extension": ".py",
   "mimetype": "text/x-python",
   "name": "python",
   "nbconvert_exporter": "python",
   "pygments_lexer": "ipython3",
   "version": "3.7.5"
  }
 },
 "nbformat": 4,
 "nbformat_minor": 1
}
